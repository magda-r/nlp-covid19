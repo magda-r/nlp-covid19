{
  "nbformat": 4,
  "nbformat_minor": 0,
  "metadata": {
    "colab": {
      "name": "nlp_covid19_sentiment.ipynb",
      "provenance": [],
      "authorship_tag": "ABX9TyNyrhnHsNWefzmPn8i9OI16",
      "include_colab_link": true
    },
    "kernelspec": {
      "name": "python3",
      "display_name": "Python 3.7.3 64-bit ('base': conda)"
    },
    "language_info": {
      "name": "python",
      "version": "3.7.3"
    },
    "interpreter": {
      "hash": "88eda6a44c4d38e97ebf254bdd1777ee9b572ffd61c883e85b22c06947056f80"
    }
  },
  "cells": [
    {
      "cell_type": "markdown",
      "metadata": {
        "id": "view-in-github",
        "colab_type": "text"
      },
      "source": [
        "<a href=\"https://colab.research.google.com/github/magda-r/nlp-covid19/blob/master/notebooks/nlp_covid19_sentiment.ipynb\" target=\"_parent\"><img src=\"https://colab.research.google.com/assets/colab-badge.svg\" alt=\"Open In Colab\"/></a>"
      ]
    },
    {
      "source": [
        "## COVID-19 - Tweets' Sentiment Analysis "
      ],
      "cell_type": "markdown",
      "metadata": {}
    },
    {
      "cell_type": "code",
      "metadata": {
        "id": "Bql_yDnWa8Nu"
      },
      "source": [
        "import tweepy as tw\n",
        "import pandas as pd\n",
        "import nltk"
      ],
      "execution_count": 13,
      "outputs": []
    },
    {
      "cell_type": "code",
      "execution_count": 14,
      "metadata": {},
      "outputs": [],
      "source": [
        "df = pd.read_csv('../data/covid19_tweets.csv')"
      ]
    },
    {
      "cell_type": "code",
      "execution_count": 15,
      "metadata": {},
      "outputs": [
        {
          "output_type": "execute_result",
          "data": {
            "text/plain": [
              "             user                                               text  \\\n",
              "0       where_val  back negative. Telling people now in the middl...   \n",
              "1   iShujaAhmedCh  #UAE: As many as 103,196 #Covid vaccine doses ...   \n",
              "2      ufailowell  @Brooksiei @SendAliensToMe @luke_peacock @Bunk...   \n",
              "3      fhussain73  #ArmedForcesDay2021 Thank you for the huge con...   \n",
              "4  GabrielPelazio  @KNgoki @namibiansun Hey the indians manufactu...   \n",
              "\n",
              "                  date          location  fav_count  re_count  no_followers  \\\n",
              "0  2021-06-26 15:05:13               NaN          0         0             7   \n",
              "1  2021-06-26 15:02:07        Dubai, UAE          0         0           371   \n",
              "2  2021-06-26 14:54:29    Houston, Texas          1         0           172   \n",
              "3  2021-06-26 14:53:54   London, England          2         0          8366   \n",
              "4  2021-06-26 14:49:48  Single Quarters           0         0            28   \n",
              "\n",
              "                                  hashtags  \n",
              "0                                       []  \n",
              "1  ['UAE', 'Covid', 'UAE', 'Dubai', 'DXB']  \n",
              "2                                       []  \n",
              "3                   ['ArmedForcesDay2021']  \n",
              "4                                       []  "
            ],
            "text/html": "<div>\n<style scoped>\n    .dataframe tbody tr th:only-of-type {\n        vertical-align: middle;\n    }\n\n    .dataframe tbody tr th {\n        vertical-align: top;\n    }\n\n    .dataframe thead th {\n        text-align: right;\n    }\n</style>\n<table border=\"1\" class=\"dataframe\">\n  <thead>\n    <tr style=\"text-align: right;\">\n      <th></th>\n      <th>user</th>\n      <th>text</th>\n      <th>date</th>\n      <th>location</th>\n      <th>fav_count</th>\n      <th>re_count</th>\n      <th>no_followers</th>\n      <th>hashtags</th>\n    </tr>\n  </thead>\n  <tbody>\n    <tr>\n      <th>0</th>\n      <td>where_val</td>\n      <td>back negative. Telling people now in the middl...</td>\n      <td>2021-06-26 15:05:13</td>\n      <td>NaN</td>\n      <td>0</td>\n      <td>0</td>\n      <td>7</td>\n      <td>[]</td>\n    </tr>\n    <tr>\n      <th>1</th>\n      <td>iShujaAhmedCh</td>\n      <td>#UAE: As many as 103,196 #Covid vaccine doses ...</td>\n      <td>2021-06-26 15:02:07</td>\n      <td>Dubai, UAE</td>\n      <td>0</td>\n      <td>0</td>\n      <td>371</td>\n      <td>['UAE', 'Covid', 'UAE', 'Dubai', 'DXB']</td>\n    </tr>\n    <tr>\n      <th>2</th>\n      <td>ufailowell</td>\n      <td>@Brooksiei @SendAliensToMe @luke_peacock @Bunk...</td>\n      <td>2021-06-26 14:54:29</td>\n      <td>Houston, Texas</td>\n      <td>1</td>\n      <td>0</td>\n      <td>172</td>\n      <td>[]</td>\n    </tr>\n    <tr>\n      <th>3</th>\n      <td>fhussain73</td>\n      <td>#ArmedForcesDay2021 Thank you for the huge con...</td>\n      <td>2021-06-26 14:53:54</td>\n      <td>London, England</td>\n      <td>2</td>\n      <td>0</td>\n      <td>8366</td>\n      <td>['ArmedForcesDay2021']</td>\n    </tr>\n    <tr>\n      <th>4</th>\n      <td>GabrielPelazio</td>\n      <td>@KNgoki @namibiansun Hey the indians manufactu...</td>\n      <td>2021-06-26 14:49:48</td>\n      <td>Single Quarters</td>\n      <td>0</td>\n      <td>0</td>\n      <td>28</td>\n      <td>[]</td>\n    </tr>\n  </tbody>\n</table>\n</div>"
          },
          "metadata": {},
          "execution_count": 15
        }
      ],
      "source": [
        "df.head()"
      ]
    },
    {
      "cell_type": "code",
      "execution_count": 16,
      "metadata": {},
      "outputs": [
        {
          "output_type": "execute_result",
          "data": {
            "text/plain": [
              "'back negative. Telling people now in the middle of a worldwide pandemic that they can travel maskless is dangerous.… https://t.co/h5VkrtEbT3'"
            ]
          },
          "metadata": {},
          "execution_count": 16
        }
      ],
      "source": [
        "df.iloc[0,1]"
      ]
    },
    {
      "cell_type": "code",
      "execution_count": 17,
      "metadata": {},
      "outputs": [
        {
          "output_type": "execute_result",
          "data": {
            "text/plain": [
              "'#UAE: As many as 103,196 #Covid vaccine doses were given in the last 24 hours.\\n\\nhttps://t.co/9ypTv5RSgp #UAE #Dubai #DXB'"
            ]
          },
          "metadata": {},
          "execution_count": 17
        }
      ],
      "source": [
        "df.iloc[1,1]"
      ]
    },
    {
      "cell_type": "code",
      "execution_count": 18,
      "metadata": {},
      "outputs": [
        {
          "output_type": "execute_result",
          "data": {
            "text/plain": [
              "'@Brooksiei @SendAliensToMe @luke_peacock @BunkiePerkins The suicide rate fell\\n\\nhttps://t.co/z54LxmaOVL\\n\\n12.6 cases… https://t.co/ul9G157AEr'"
            ]
          },
          "metadata": {},
          "execution_count": 18
        }
      ],
      "source": [
        "df.iloc[2,1]"
      ]
    },
    {
      "cell_type": "code",
      "execution_count": 21,
      "metadata": {},
      "outputs": [
        {
          "output_type": "execute_result",
          "data": {
            "text/plain": [
              "Empty DataFrame\n",
              "Columns: [user, text, date, location, fav_count, re_count, no_followers, hashtags]\n",
              "Index: []"
            ],
            "text/html": "<div>\n<style scoped>\n    .dataframe tbody tr th:only-of-type {\n        vertical-align: middle;\n    }\n\n    .dataframe tbody tr th {\n        vertical-align: top;\n    }\n\n    .dataframe thead th {\n        text-align: right;\n    }\n</style>\n<table border=\"1\" class=\"dataframe\">\n  <thead>\n    <tr style=\"text-align: right;\">\n      <th></th>\n      <th>user</th>\n      <th>text</th>\n      <th>date</th>\n      <th>location</th>\n      <th>fav_count</th>\n      <th>re_count</th>\n      <th>no_followers</th>\n      <th>hashtags</th>\n    </tr>\n  </thead>\n  <tbody>\n  </tbody>\n</table>\n</div>"
          },
          "metadata": {},
          "execution_count": 21
        }
      ],
      "source": [
        "df.loc[df['text'].str.contains(\"generous\")]"
      ]
    },
    {
      "cell_type": "code",
      "execution_count": 22,
      "metadata": {},
      "outputs": [
        {
          "output_type": "execute_result",
          "data": {
            "text/plain": [
              "                 user                                               text  \\\n",
              "0           where_val  back negative. Telling people now in the middl...   \n",
              "1       iShujaAhmedCh  #UAE: As many as 103,196 #Covid vaccine doses ...   \n",
              "2          ufailowell  @Brooksiei @SendAliensToMe @luke_peacock @Bunk...   \n",
              "3          fhussain73  #ArmedForcesDay2021 Thank you for the huge con...   \n",
              "4      GabrielPelazio  @KNgoki @namibiansun Hey the indians manufactu...   \n",
              "5        khaleejtimes  #UAE: As many as 103,196 #Covid vaccine doses ...   \n",
              "6          PowerUSAID  1.5 million doses from the US to #Honduras lea...   \n",
              "7      weareoversight  Last week, Vermont became the first state to h...   \n",
              "8      SethMacFarlane  “Nearly all COVID deaths in the U.S. now are p...   \n",
              "9       NEPA_Unhinged  The pharmacist at @riteaid telling me she does...   \n",
              "10            doritmi  @CcrnTcrn @erin_bsn This person was an anti-va...   \n",
              "11        BeyondType2  Over the last year @AmDiabetesAssn has advocat...   \n",
              "12        MarkRossini  “This is overwhelmingly now a pandemic of unva...   \n",
              "13           unenergy  @Pandemic_Times Play politics with every aspec...   \n",
              "14           unenergy  @Pandemic_Times What would have to be done to ...   \n",
              "15      macadamia_man  “Nearly all COVID deaths in US are now among u...   \n",
              "16              PVCHC  Circle time is one of Jan’s favorite activitie...   \n",
              "17    ScottPGoldstein  Another outstanding story from journalist @BFl...   \n",
              "18    TheRealDavidLaw  @tomf72 @chrissmithonair ONE person has died f...   \n",
              "19        InovaHealth  Have questions about getting the COVID-19 vacc...   \n",
              "20       JCarpenterTN  \"You can keep your gift cards and sweepstakes....   \n",
              "21            nolejag  @Brett_McMurphy At this point why are they tes...   \n",
              "22        graybrigade  @MattieTimmer @SpiroAgnewGhost They’re going t...   \n",
              "23    Charger69503798  @AllenWest If I have an abortion, it doesn’t a...   \n",
              "24       VisevenGroup  European Union Digital COVID certificates have...   \n",
              "25        eWizard_app  European Union Digital COVID certificates have...   \n",
              "26     katie_kelleher  @DONBROCO @templeofseitan More than a year and...   \n",
              "27          Orgetorix  Zero daily Covid deaths in UK for first time s...   \n",
              "28      RonnieBoone16  @KamalaHarris When we gonna get a vaccine for ...   \n",
              "29        JonHansenTV  @jacquesleger17 @EricTopol @Arjun_AJB15 Nothin...   \n",
              "...               ...                                                ...   \n",
              "3673     UCANSriLanka  #India's vaccination drive against the fast-sp...   \n",
              "3674        ucanindia  #India's vaccination drive against the fast-sp...   \n",
              "3675          UCANews  #India's vaccination drive against the fast-sp...   \n",
              "3676    ucanindonesia  #India's vaccination drive against the fast-sp...   \n",
              "3677       Vaxyourfam  “Pharmacists: Those Who Skip Second Dose of CO...   \n",
              "3678              CNN  \"The Covid-19 pandemic dramatically revealed t...   \n",
              "3679   FringeRadioNet  📣 New Podcast! \"Sarah Westall - Death  by Gove...   \n",
              "3680      SaiDebabrat  COVID AWARENESS VIDEO 🤗\\n#GO_କରୋନା_GO\\nMASK+Va...   \n",
              "3681        Benbird21  @ll_poseidon @nypost As I was saying aside fro...   \n",
              "3682             PIIE  The world lacks a well-structured process to v...   \n",
              "3683    COVIDZeroHero  @gamen_on @LyndaGr89180411 @LeftieLawyer As fo...   \n",
              "3684     SNAWorldNews  Indonesia has reported that over three hundred...   \n",
              "3685   DeputySecState  Today's shipment to Canada makes one million m...   \n",
              "3686        StateDept  COVID-19 knows no borders and ensuring our nei...   \n",
              "3687     66Amanda2168  China has been cooperating by action. Even kid...   \n",
              "3688          IGJ2012  1.5 years ago, we were faced with the Covid-19...   \n",
              "3689    StateDeptSpox  The U.S. is sharing COVID-19 vaccine doses to ...   \n",
              "3690  usembassyottawa  1M doses of COVID-19 vaccine arrived in Toront...   \n",
              "3691        filly1119  Covid was man made\\nAnd this pandemic is a Pla...   \n",
              "3692       babynamgii  Ya gurl got her 1st dose of Pfizer covid vacci...   \n",
              "3693  mariannevill714  #listening on the car radio, npr announced res...   \n",
              "3694       johnndavis  20210617: AP: COVID-19 surges worsen vaccine s...   \n",
              "3695        CanNews24  COVID-19 updates, June 17: Federal committee r...   \n",
              "3696      DraySchulte  @business The vaccine doesn’t prevent Covid, s...   \n",
              "3697      GladesYouth  #mindblown #statement on #russia vs. #unitedst...   \n",
              "3698        CanNews24  COVID-19 live updates: Federal committee recom...   \n",
              "3699      EgoRandhirr  @NBCNews 20million jabs and 300+ cases of hear...   \n",
              "3700      RAHULAKUMAR  COVID-19 updates, June 17: Federal committee r...   \n",
              "3701      FightForM4A  Follow the emergency Summit for #VaccineIntern...   \n",
              "3702        ruqaiijah  See my views about mandatory student Covid-19 ...   \n",
              "\n",
              "                     date                        location  fav_count  \\\n",
              "0     2021-06-26 15:05:13                             NaN          0   \n",
              "1     2021-06-26 15:02:07                      Dubai, UAE          0   \n",
              "2     2021-06-26 14:54:29                  Houston, Texas          1   \n",
              "3     2021-06-26 14:53:54                 London, England          2   \n",
              "4     2021-06-26 14:49:48                Single Quarters           0   \n",
              "5     2021-06-26 14:49:05            United Arab Emirates         13   \n",
              "6     2021-06-26 14:47:30                Washington, D.C.         39   \n",
              "7     2021-06-26 14:45:02                             NaN         30   \n",
              "8     2021-06-26 14:44:23                             NaN        951   \n",
              "9     2021-06-26 14:44:07      already doxxed but thanks           2   \n",
              "10    2021-06-26 14:40:04                    Bay Area, CA          1   \n",
              "11    2021-06-26 14:27:50                 California, USA          0   \n",
              "12    2021-06-26 14:21:55                             NaN          0   \n",
              "13    2021-06-26 14:20:58                       Australia          0   \n",
              "14    2021-06-26 14:17:23                       Australia          0   \n",
              "15    2021-06-26 14:13:12  In awe of some people's nerve.          0   \n",
              "16    2021-06-26 14:05:08                        Colorado          0   \n",
              "17    2021-06-26 14:05:05             Trenton, New Jersey          0   \n",
              "18    2021-06-26 14:03:14             Melbourne, Victoria          0   \n",
              "19    2021-06-26 14:01:22    Northern Virginia & DC Metro          0   \n",
              "20    2021-06-26 13:57:47                  West Tennessee          0   \n",
              "21    2021-06-26 13:54:34                Jacksonville, FL          0   \n",
              "22    2021-06-26 13:53:15                   Maryland, USA          1   \n",
              "23    2021-06-26 13:49:20                             NaN          0   \n",
              "24    2021-06-26 13:47:59                             NaN          0   \n",
              "25    2021-06-26 13:47:59           Tallin, Kyiv branches          0   \n",
              "26    2021-06-26 13:47:58                         England          0   \n",
              "27    2021-06-26 13:32:38                 London, England          0   \n",
              "28    2021-06-26 13:29:22                             NaN          0   \n",
              "29    2021-06-26 13:23:55                     chicago, il          1   \n",
              "...                   ...                             ...        ...   \n",
              "3673  2021-06-18 02:30:46                       Sri Lanka          0   \n",
              "3674  2021-06-18 02:30:00                           India          0   \n",
              "3675  2021-06-18 02:30:00                             NaN          0   \n",
              "3676  2021-06-18 02:30:00                         Jakarta          0   \n",
              "3677  2021-06-18 02:29:01                   United States          1   \n",
              "3678  2021-06-18 02:27:05                             NaN        195   \n",
              "3679  2021-06-18 02:26:35                   United States          0   \n",
              "3680  2021-06-18 02:22:45                   JAJPUR,ODISHA         57   \n",
              "3681  2021-06-18 02:21:04                             NaN          0   \n",
              "3682  2021-06-18 02:13:01                  Washington, DC         21   \n",
              "3683  2021-06-18 02:09:31                             NaN          0   \n",
              "3684  2021-06-18 02:06:47                    Tokyo, Japan          0   \n",
              "3685  2021-06-18 02:06:21                  Washington, DC        175   \n",
              "3686  2021-06-18 02:05:20                  Washington, DC        226   \n",
              "3687  2021-06-18 02:04:49                     江苏, 中华人民共和国          1   \n",
              "3688  2021-06-18 02:04:47    Jakarta Selatan, DKI Jakarta          0   \n",
              "3689  2021-06-18 02:01:14  Dept. of State, Washington, DC        125   \n",
              "3690  2021-06-18 01:55:10                  Ottawa, Canada         34   \n",
              "3691  2021-06-18 01:54:24                             NaN          3   \n",
              "3692  2021-06-18 01:34:20                Namjoon's Galaxy          4   \n",
              "3693  2021-06-18 01:15:02                      California          0   \n",
              "3694  2021-06-18 01:13:00                         Toronto          0   \n",
              "3695  2021-06-18 01:01:13                          Canada          0   \n",
              "3696  2021-06-18 00:57:41                             NaN          0   \n",
              "3697  2021-06-18 00:56:51    Sea-level, Far Left FL, U.S.          0   \n",
              "3698  2021-06-18 00:49:11                          Canada          0   \n",
              "3699  2021-06-18 00:49:11               Naraingarh, India          1   \n",
              "3700  2021-06-18 00:45:31                          Canada          0   \n",
              "3701  2021-06-18 00:38:18                   United States          1   \n",
              "3702  2021-06-18 00:31:18                             NaN          1   \n",
              "\n",
              "      re_count  no_followers  \\\n",
              "0            0             7   \n",
              "1            0           371   \n",
              "2            0           172   \n",
              "3            0          8366   \n",
              "4            0            28   \n",
              "5            3        658571   \n",
              "6           12         31674   \n",
              "7           11        106341   \n",
              "8          191      13774745   \n",
              "9            0          1137   \n",
              "10           0         10042   \n",
              "11           1          1495   \n",
              "12           0           695   \n",
              "13           0          1931   \n",
              "14           0          1931   \n",
              "15           1           236   \n",
              "16           0           621   \n",
              "17           0           151   \n",
              "18           0            37   \n",
              "19           0         11140   \n",
              "20           0           254   \n",
              "21           0           278   \n",
              "22           0           403   \n",
              "23           0             0   \n",
              "24           0           435   \n",
              "25           0           559   \n",
              "26           0            85   \n",
              "27           0          3302   \n",
              "28           0             0   \n",
              "29           0          4262   \n",
              "...        ...           ...   \n",
              "3673         0           217   \n",
              "3674         0          1751   \n",
              "3675         0           849   \n",
              "3676         0          2945   \n",
              "3677         2          8531   \n",
              "3678        57      53942037   \n",
              "3679         0           380   \n",
              "3680        15           527   \n",
              "3681         0            55   \n",
              "3682         6         68835   \n",
              "3683         0           353   \n",
              "3684         0           539   \n",
              "3685        39         33160   \n",
              "3686        84       6113454   \n",
              "3687         1            12   \n",
              "3688         0          1487   \n",
              "3689        42        492073   \n",
              "3690        11         29271   \n",
              "3691         2           510   \n",
              "3692         0           612   \n",
              "3693         0          2319   \n",
              "3694         0           357   \n",
              "3695         0           184   \n",
              "3696         0             0   \n",
              "3697         0            68   \n",
              "3698         0           184   \n",
              "3699         0             1   \n",
              "3700         0          1488   \n",
              "3701         1          1868   \n",
              "3702         1          1474   \n",
              "\n",
              "                                               hashtags  \n",
              "0                                                    []  \n",
              "1               ['UAE', 'Covid', 'UAE', 'Dubai', 'DXB']  \n",
              "2                                                    []  \n",
              "3                                ['ArmedForcesDay2021']  \n",
              "4                                                    []  \n",
              "5                                      ['UAE', 'Covid']  \n",
              "6                                          ['Honduras']  \n",
              "7                                                    []  \n",
              "8                                                    []  \n",
              "9                                                    []  \n",
              "10                                                   []  \n",
              "11                                                   []  \n",
              "12                                                   []  \n",
              "13                                                   []  \n",
              "14                                                   []  \n",
              "15                                                   []  \n",
              "16                                                   []  \n",
              "17                                                   []  \n",
              "18                                                   []  \n",
              "19                                                   []  \n",
              "20                                                   []  \n",
              "21                                                   []  \n",
              "22                                            ['COVID']  \n",
              "23                                                   []  \n",
              "24                                                   []  \n",
              "25                                                   []  \n",
              "26                                                   []  \n",
              "27                                                   []  \n",
              "28                                                   []  \n",
              "29                                                   []  \n",
              "...                                                 ...  \n",
              "3673                                          ['India']  \n",
              "3674                                          ['India']  \n",
              "3675                                          ['India']  \n",
              "3676                                          ['India']  \n",
              "3677                                                 []  \n",
              "3678                                                 []  \n",
              "3679  ['censorship', 'conspiracy', 'covid', 'covid_19']  \n",
              "3680                                    ['GO_କରୋନା_GO']  \n",
              "3681                                                 []  \n",
              "3682                                                 []  \n",
              "3683                                                 []  \n",
              "3684                                                 []  \n",
              "3685                                                 []  \n",
              "3686                                                 []  \n",
              "3687                                                 []  \n",
              "3688                                                 []  \n",
              "3689                                                 []  \n",
              "3690                          ['FriendsPartnersAllies']  \n",
              "3691                                                 []  \n",
              "3692                                                 []  \n",
              "3693                                      ['listening']  \n",
              "3694                                                 []  \n",
              "3695                                                 []  \n",
              "3696                                                 []  \n",
              "3697  ['mindblown', 'statement', 'russia', 'unitedst...  \n",
              "3698                                                 []  \n",
              "3699                                                 []  \n",
              "3700                                                 []  \n",
              "3701                        ['VaccineInternationalism']  \n",
              "3702                                                 []  \n",
              "\n",
              "[3703 rows x 8 columns]"
            ],
            "text/html": "<div>\n<style scoped>\n    .dataframe tbody tr th:only-of-type {\n        vertical-align: middle;\n    }\n\n    .dataframe tbody tr th {\n        vertical-align: top;\n    }\n\n    .dataframe thead th {\n        text-align: right;\n    }\n</style>\n<table border=\"1\" class=\"dataframe\">\n  <thead>\n    <tr style=\"text-align: right;\">\n      <th></th>\n      <th>user</th>\n      <th>text</th>\n      <th>date</th>\n      <th>location</th>\n      <th>fav_count</th>\n      <th>re_count</th>\n      <th>no_followers</th>\n      <th>hashtags</th>\n    </tr>\n  </thead>\n  <tbody>\n    <tr>\n      <th>0</th>\n      <td>where_val</td>\n      <td>back negative. Telling people now in the middl...</td>\n      <td>2021-06-26 15:05:13</td>\n      <td>NaN</td>\n      <td>0</td>\n      <td>0</td>\n      <td>7</td>\n      <td>[]</td>\n    </tr>\n    <tr>\n      <th>1</th>\n      <td>iShujaAhmedCh</td>\n      <td>#UAE: As many as 103,196 #Covid vaccine doses ...</td>\n      <td>2021-06-26 15:02:07</td>\n      <td>Dubai, UAE</td>\n      <td>0</td>\n      <td>0</td>\n      <td>371</td>\n      <td>['UAE', 'Covid', 'UAE', 'Dubai', 'DXB']</td>\n    </tr>\n    <tr>\n      <th>2</th>\n      <td>ufailowell</td>\n      <td>@Brooksiei @SendAliensToMe @luke_peacock @Bunk...</td>\n      <td>2021-06-26 14:54:29</td>\n      <td>Houston, Texas</td>\n      <td>1</td>\n      <td>0</td>\n      <td>172</td>\n      <td>[]</td>\n    </tr>\n    <tr>\n      <th>3</th>\n      <td>fhussain73</td>\n      <td>#ArmedForcesDay2021 Thank you for the huge con...</td>\n      <td>2021-06-26 14:53:54</td>\n      <td>London, England</td>\n      <td>2</td>\n      <td>0</td>\n      <td>8366</td>\n      <td>['ArmedForcesDay2021']</td>\n    </tr>\n    <tr>\n      <th>4</th>\n      <td>GabrielPelazio</td>\n      <td>@KNgoki @namibiansun Hey the indians manufactu...</td>\n      <td>2021-06-26 14:49:48</td>\n      <td>Single Quarters</td>\n      <td>0</td>\n      <td>0</td>\n      <td>28</td>\n      <td>[]</td>\n    </tr>\n    <tr>\n      <th>5</th>\n      <td>khaleejtimes</td>\n      <td>#UAE: As many as 103,196 #Covid vaccine doses ...</td>\n      <td>2021-06-26 14:49:05</td>\n      <td>United Arab Emirates</td>\n      <td>13</td>\n      <td>3</td>\n      <td>658571</td>\n      <td>['UAE', 'Covid']</td>\n    </tr>\n    <tr>\n      <th>6</th>\n      <td>PowerUSAID</td>\n      <td>1.5 million doses from the US to #Honduras lea...</td>\n      <td>2021-06-26 14:47:30</td>\n      <td>Washington, D.C.</td>\n      <td>39</td>\n      <td>12</td>\n      <td>31674</td>\n      <td>['Honduras']</td>\n    </tr>\n    <tr>\n      <th>7</th>\n      <td>weareoversight</td>\n      <td>Last week, Vermont became the first state to h...</td>\n      <td>2021-06-26 14:45:02</td>\n      <td>NaN</td>\n      <td>30</td>\n      <td>11</td>\n      <td>106341</td>\n      <td>[]</td>\n    </tr>\n    <tr>\n      <th>8</th>\n      <td>SethMacFarlane</td>\n      <td>“Nearly all COVID deaths in the U.S. now are p...</td>\n      <td>2021-06-26 14:44:23</td>\n      <td>NaN</td>\n      <td>951</td>\n      <td>191</td>\n      <td>13774745</td>\n      <td>[]</td>\n    </tr>\n    <tr>\n      <th>9</th>\n      <td>NEPA_Unhinged</td>\n      <td>The pharmacist at @riteaid telling me she does...</td>\n      <td>2021-06-26 14:44:07</td>\n      <td>already doxxed but thanks</td>\n      <td>2</td>\n      <td>0</td>\n      <td>1137</td>\n      <td>[]</td>\n    </tr>\n    <tr>\n      <th>10</th>\n      <td>doritmi</td>\n      <td>@CcrnTcrn @erin_bsn This person was an anti-va...</td>\n      <td>2021-06-26 14:40:04</td>\n      <td>Bay Area, CA</td>\n      <td>1</td>\n      <td>0</td>\n      <td>10042</td>\n      <td>[]</td>\n    </tr>\n    <tr>\n      <th>11</th>\n      <td>BeyondType2</td>\n      <td>Over the last year @AmDiabetesAssn has advocat...</td>\n      <td>2021-06-26 14:27:50</td>\n      <td>California, USA</td>\n      <td>0</td>\n      <td>1</td>\n      <td>1495</td>\n      <td>[]</td>\n    </tr>\n    <tr>\n      <th>12</th>\n      <td>MarkRossini</td>\n      <td>“This is overwhelmingly now a pandemic of unva...</td>\n      <td>2021-06-26 14:21:55</td>\n      <td>NaN</td>\n      <td>0</td>\n      <td>0</td>\n      <td>695</td>\n      <td>[]</td>\n    </tr>\n    <tr>\n      <th>13</th>\n      <td>unenergy</td>\n      <td>@Pandemic_Times Play politics with every aspec...</td>\n      <td>2021-06-26 14:20:58</td>\n      <td>Australia</td>\n      <td>0</td>\n      <td>0</td>\n      <td>1931</td>\n      <td>[]</td>\n    </tr>\n    <tr>\n      <th>14</th>\n      <td>unenergy</td>\n      <td>@Pandemic_Times What would have to be done to ...</td>\n      <td>2021-06-26 14:17:23</td>\n      <td>Australia</td>\n      <td>0</td>\n      <td>0</td>\n      <td>1931</td>\n      <td>[]</td>\n    </tr>\n    <tr>\n      <th>15</th>\n      <td>macadamia_man</td>\n      <td>“Nearly all COVID deaths in US are now among u...</td>\n      <td>2021-06-26 14:13:12</td>\n      <td>In awe of some people's nerve.</td>\n      <td>0</td>\n      <td>1</td>\n      <td>236</td>\n      <td>[]</td>\n    </tr>\n    <tr>\n      <th>16</th>\n      <td>PVCHC</td>\n      <td>Circle time is one of Jan’s favorite activitie...</td>\n      <td>2021-06-26 14:05:08</td>\n      <td>Colorado</td>\n      <td>0</td>\n      <td>0</td>\n      <td>621</td>\n      <td>[]</td>\n    </tr>\n    <tr>\n      <th>17</th>\n      <td>ScottPGoldstein</td>\n      <td>Another outstanding story from journalist @BFl...</td>\n      <td>2021-06-26 14:05:05</td>\n      <td>Trenton, New Jersey</td>\n      <td>0</td>\n      <td>0</td>\n      <td>151</td>\n      <td>[]</td>\n    </tr>\n    <tr>\n      <th>18</th>\n      <td>TheRealDavidLaw</td>\n      <td>@tomf72 @chrissmithonair ONE person has died f...</td>\n      <td>2021-06-26 14:03:14</td>\n      <td>Melbourne, Victoria</td>\n      <td>0</td>\n      <td>0</td>\n      <td>37</td>\n      <td>[]</td>\n    </tr>\n    <tr>\n      <th>19</th>\n      <td>InovaHealth</td>\n      <td>Have questions about getting the COVID-19 vacc...</td>\n      <td>2021-06-26 14:01:22</td>\n      <td>Northern Virginia &amp; DC Metro</td>\n      <td>0</td>\n      <td>0</td>\n      <td>11140</td>\n      <td>[]</td>\n    </tr>\n    <tr>\n      <th>20</th>\n      <td>JCarpenterTN</td>\n      <td>\"You can keep your gift cards and sweepstakes....</td>\n      <td>2021-06-26 13:57:47</td>\n      <td>West Tennessee</td>\n      <td>0</td>\n      <td>0</td>\n      <td>254</td>\n      <td>[]</td>\n    </tr>\n    <tr>\n      <th>21</th>\n      <td>nolejag</td>\n      <td>@Brett_McMurphy At this point why are they tes...</td>\n      <td>2021-06-26 13:54:34</td>\n      <td>Jacksonville, FL</td>\n      <td>0</td>\n      <td>0</td>\n      <td>278</td>\n      <td>[]</td>\n    </tr>\n    <tr>\n      <th>22</th>\n      <td>graybrigade</td>\n      <td>@MattieTimmer @SpiroAgnewGhost They’re going t...</td>\n      <td>2021-06-26 13:53:15</td>\n      <td>Maryland, USA</td>\n      <td>1</td>\n      <td>0</td>\n      <td>403</td>\n      <td>['COVID']</td>\n    </tr>\n    <tr>\n      <th>23</th>\n      <td>Charger69503798</td>\n      <td>@AllenWest If I have an abortion, it doesn’t a...</td>\n      <td>2021-06-26 13:49:20</td>\n      <td>NaN</td>\n      <td>0</td>\n      <td>0</td>\n      <td>0</td>\n      <td>[]</td>\n    </tr>\n    <tr>\n      <th>24</th>\n      <td>VisevenGroup</td>\n      <td>European Union Digital COVID certificates have...</td>\n      <td>2021-06-26 13:47:59</td>\n      <td>NaN</td>\n      <td>0</td>\n      <td>0</td>\n      <td>435</td>\n      <td>[]</td>\n    </tr>\n    <tr>\n      <th>25</th>\n      <td>eWizard_app</td>\n      <td>European Union Digital COVID certificates have...</td>\n      <td>2021-06-26 13:47:59</td>\n      <td>Tallin, Kyiv branches</td>\n      <td>0</td>\n      <td>0</td>\n      <td>559</td>\n      <td>[]</td>\n    </tr>\n    <tr>\n      <th>26</th>\n      <td>katie_kelleher</td>\n      <td>@DONBROCO @templeofseitan More than a year and...</td>\n      <td>2021-06-26 13:47:58</td>\n      <td>England</td>\n      <td>0</td>\n      <td>0</td>\n      <td>85</td>\n      <td>[]</td>\n    </tr>\n    <tr>\n      <th>27</th>\n      <td>Orgetorix</td>\n      <td>Zero daily Covid deaths in UK for first time s...</td>\n      <td>2021-06-26 13:32:38</td>\n      <td>London, England</td>\n      <td>0</td>\n      <td>0</td>\n      <td>3302</td>\n      <td>[]</td>\n    </tr>\n    <tr>\n      <th>28</th>\n      <td>RonnieBoone16</td>\n      <td>@KamalaHarris When we gonna get a vaccine for ...</td>\n      <td>2021-06-26 13:29:22</td>\n      <td>NaN</td>\n      <td>0</td>\n      <td>0</td>\n      <td>0</td>\n      <td>[]</td>\n    </tr>\n    <tr>\n      <th>29</th>\n      <td>JonHansenTV</td>\n      <td>@jacquesleger17 @EricTopol @Arjun_AJB15 Nothin...</td>\n      <td>2021-06-26 13:23:55</td>\n      <td>chicago, il</td>\n      <td>1</td>\n      <td>0</td>\n      <td>4262</td>\n      <td>[]</td>\n    </tr>\n    <tr>\n      <th>...</th>\n      <td>...</td>\n      <td>...</td>\n      <td>...</td>\n      <td>...</td>\n      <td>...</td>\n      <td>...</td>\n      <td>...</td>\n      <td>...</td>\n    </tr>\n    <tr>\n      <th>3673</th>\n      <td>UCANSriLanka</td>\n      <td>#India's vaccination drive against the fast-sp...</td>\n      <td>2021-06-18 02:30:46</td>\n      <td>Sri Lanka</td>\n      <td>0</td>\n      <td>0</td>\n      <td>217</td>\n      <td>['India']</td>\n    </tr>\n    <tr>\n      <th>3674</th>\n      <td>ucanindia</td>\n      <td>#India's vaccination drive against the fast-sp...</td>\n      <td>2021-06-18 02:30:00</td>\n      <td>India</td>\n      <td>0</td>\n      <td>0</td>\n      <td>1751</td>\n      <td>['India']</td>\n    </tr>\n    <tr>\n      <th>3675</th>\n      <td>UCANews</td>\n      <td>#India's vaccination drive against the fast-sp...</td>\n      <td>2021-06-18 02:30:00</td>\n      <td>NaN</td>\n      <td>0</td>\n      <td>0</td>\n      <td>849</td>\n      <td>['India']</td>\n    </tr>\n    <tr>\n      <th>3676</th>\n      <td>ucanindonesia</td>\n      <td>#India's vaccination drive against the fast-sp...</td>\n      <td>2021-06-18 02:30:00</td>\n      <td>Jakarta</td>\n      <td>0</td>\n      <td>0</td>\n      <td>2945</td>\n      <td>['India']</td>\n    </tr>\n    <tr>\n      <th>3677</th>\n      <td>Vaxyourfam</td>\n      <td>“Pharmacists: Those Who Skip Second Dose of CO...</td>\n      <td>2021-06-18 02:29:01</td>\n      <td>United States</td>\n      <td>1</td>\n      <td>2</td>\n      <td>8531</td>\n      <td>[]</td>\n    </tr>\n    <tr>\n      <th>3678</th>\n      <td>CNN</td>\n      <td>\"The Covid-19 pandemic dramatically revealed t...</td>\n      <td>2021-06-18 02:27:05</td>\n      <td>NaN</td>\n      <td>195</td>\n      <td>57</td>\n      <td>53942037</td>\n      <td>[]</td>\n    </tr>\n    <tr>\n      <th>3679</th>\n      <td>FringeRadioNet</td>\n      <td>📣 New Podcast! \"Sarah Westall - Death  by Gove...</td>\n      <td>2021-06-18 02:26:35</td>\n      <td>United States</td>\n      <td>0</td>\n      <td>0</td>\n      <td>380</td>\n      <td>['censorship', 'conspiracy', 'covid', 'covid_19']</td>\n    </tr>\n    <tr>\n      <th>3680</th>\n      <td>SaiDebabrat</td>\n      <td>COVID AWARENESS VIDEO 🤗\\n#GO_କରୋନା_GO\\nMASK+Va...</td>\n      <td>2021-06-18 02:22:45</td>\n      <td>JAJPUR,ODISHA</td>\n      <td>57</td>\n      <td>15</td>\n      <td>527</td>\n      <td>['GO_କରୋନା_GO']</td>\n    </tr>\n    <tr>\n      <th>3681</th>\n      <td>Benbird21</td>\n      <td>@ll_poseidon @nypost As I was saying aside fro...</td>\n      <td>2021-06-18 02:21:04</td>\n      <td>NaN</td>\n      <td>0</td>\n      <td>0</td>\n      <td>55</td>\n      <td>[]</td>\n    </tr>\n    <tr>\n      <th>3682</th>\n      <td>PIIE</td>\n      <td>The world lacks a well-structured process to v...</td>\n      <td>2021-06-18 02:13:01</td>\n      <td>Washington, DC</td>\n      <td>21</td>\n      <td>6</td>\n      <td>68835</td>\n      <td>[]</td>\n    </tr>\n    <tr>\n      <th>3683</th>\n      <td>COVIDZeroHero</td>\n      <td>@gamen_on @LyndaGr89180411 @LeftieLawyer As fo...</td>\n      <td>2021-06-18 02:09:31</td>\n      <td>NaN</td>\n      <td>0</td>\n      <td>0</td>\n      <td>353</td>\n      <td>[]</td>\n    </tr>\n    <tr>\n      <th>3684</th>\n      <td>SNAWorldNews</td>\n      <td>Indonesia has reported that over three hundred...</td>\n      <td>2021-06-18 02:06:47</td>\n      <td>Tokyo, Japan</td>\n      <td>0</td>\n      <td>0</td>\n      <td>539</td>\n      <td>[]</td>\n    </tr>\n    <tr>\n      <th>3685</th>\n      <td>DeputySecState</td>\n      <td>Today's shipment to Canada makes one million m...</td>\n      <td>2021-06-18 02:06:21</td>\n      <td>Washington, DC</td>\n      <td>175</td>\n      <td>39</td>\n      <td>33160</td>\n      <td>[]</td>\n    </tr>\n    <tr>\n      <th>3686</th>\n      <td>StateDept</td>\n      <td>COVID-19 knows no borders and ensuring our nei...</td>\n      <td>2021-06-18 02:05:20</td>\n      <td>Washington, DC</td>\n      <td>226</td>\n      <td>84</td>\n      <td>6113454</td>\n      <td>[]</td>\n    </tr>\n    <tr>\n      <th>3687</th>\n      <td>66Amanda2168</td>\n      <td>China has been cooperating by action. Even kid...</td>\n      <td>2021-06-18 02:04:49</td>\n      <td>江苏, 中华人民共和国</td>\n      <td>1</td>\n      <td>1</td>\n      <td>12</td>\n      <td>[]</td>\n    </tr>\n    <tr>\n      <th>3688</th>\n      <td>IGJ2012</td>\n      <td>1.5 years ago, we were faced with the Covid-19...</td>\n      <td>2021-06-18 02:04:47</td>\n      <td>Jakarta Selatan, DKI Jakarta</td>\n      <td>0</td>\n      <td>0</td>\n      <td>1487</td>\n      <td>[]</td>\n    </tr>\n    <tr>\n      <th>3689</th>\n      <td>StateDeptSpox</td>\n      <td>The U.S. is sharing COVID-19 vaccine doses to ...</td>\n      <td>2021-06-18 02:01:14</td>\n      <td>Dept. of State, Washington, DC</td>\n      <td>125</td>\n      <td>42</td>\n      <td>492073</td>\n      <td>[]</td>\n    </tr>\n    <tr>\n      <th>3690</th>\n      <td>usembassyottawa</td>\n      <td>1M doses of COVID-19 vaccine arrived in Toront...</td>\n      <td>2021-06-18 01:55:10</td>\n      <td>Ottawa, Canada</td>\n      <td>34</td>\n      <td>11</td>\n      <td>29271</td>\n      <td>['FriendsPartnersAllies']</td>\n    </tr>\n    <tr>\n      <th>3691</th>\n      <td>filly1119</td>\n      <td>Covid was man made\\nAnd this pandemic is a Pla...</td>\n      <td>2021-06-18 01:54:24</td>\n      <td>NaN</td>\n      <td>3</td>\n      <td>2</td>\n      <td>510</td>\n      <td>[]</td>\n    </tr>\n    <tr>\n      <th>3692</th>\n      <td>babynamgii</td>\n      <td>Ya gurl got her 1st dose of Pfizer covid vacci...</td>\n      <td>2021-06-18 01:34:20</td>\n      <td>Namjoon's Galaxy</td>\n      <td>4</td>\n      <td>0</td>\n      <td>612</td>\n      <td>[]</td>\n    </tr>\n    <tr>\n      <th>3693</th>\n      <td>mariannevill714</td>\n      <td>#listening on the car radio, npr announced res...</td>\n      <td>2021-06-18 01:15:02</td>\n      <td>California</td>\n      <td>0</td>\n      <td>0</td>\n      <td>2319</td>\n      <td>['listening']</td>\n    </tr>\n    <tr>\n      <th>3694</th>\n      <td>johnndavis</td>\n      <td>20210617: AP: COVID-19 surges worsen vaccine s...</td>\n      <td>2021-06-18 01:13:00</td>\n      <td>Toronto</td>\n      <td>0</td>\n      <td>0</td>\n      <td>357</td>\n      <td>[]</td>\n    </tr>\n    <tr>\n      <th>3695</th>\n      <td>CanNews24</td>\n      <td>COVID-19 updates, June 17: Federal committee r...</td>\n      <td>2021-06-18 01:01:13</td>\n      <td>Canada</td>\n      <td>0</td>\n      <td>0</td>\n      <td>184</td>\n      <td>[]</td>\n    </tr>\n    <tr>\n      <th>3696</th>\n      <td>DraySchulte</td>\n      <td>@business The vaccine doesn’t prevent Covid, s...</td>\n      <td>2021-06-18 00:57:41</td>\n      <td>NaN</td>\n      <td>0</td>\n      <td>0</td>\n      <td>0</td>\n      <td>[]</td>\n    </tr>\n    <tr>\n      <th>3697</th>\n      <td>GladesYouth</td>\n      <td>#mindblown #statement on #russia vs. #unitedst...</td>\n      <td>2021-06-18 00:56:51</td>\n      <td>Sea-level, Far Left FL, U.S.</td>\n      <td>0</td>\n      <td>0</td>\n      <td>68</td>\n      <td>['mindblown', 'statement', 'russia', 'unitedst...</td>\n    </tr>\n    <tr>\n      <th>3698</th>\n      <td>CanNews24</td>\n      <td>COVID-19 live updates: Federal committee recom...</td>\n      <td>2021-06-18 00:49:11</td>\n      <td>Canada</td>\n      <td>0</td>\n      <td>0</td>\n      <td>184</td>\n      <td>[]</td>\n    </tr>\n    <tr>\n      <th>3699</th>\n      <td>EgoRandhirr</td>\n      <td>@NBCNews 20million jabs and 300+ cases of hear...</td>\n      <td>2021-06-18 00:49:11</td>\n      <td>Naraingarh, India</td>\n      <td>1</td>\n      <td>0</td>\n      <td>1</td>\n      <td>[]</td>\n    </tr>\n    <tr>\n      <th>3700</th>\n      <td>RAHULAKUMAR</td>\n      <td>COVID-19 updates, June 17: Federal committee r...</td>\n      <td>2021-06-18 00:45:31</td>\n      <td>Canada</td>\n      <td>0</td>\n      <td>0</td>\n      <td>1488</td>\n      <td>[]</td>\n    </tr>\n    <tr>\n      <th>3701</th>\n      <td>FightForM4A</td>\n      <td>Follow the emergency Summit for #VaccineIntern...</td>\n      <td>2021-06-18 00:38:18</td>\n      <td>United States</td>\n      <td>1</td>\n      <td>1</td>\n      <td>1868</td>\n      <td>['VaccineInternationalism']</td>\n    </tr>\n    <tr>\n      <th>3702</th>\n      <td>ruqaiijah</td>\n      <td>See my views about mandatory student Covid-19 ...</td>\n      <td>2021-06-18 00:31:18</td>\n      <td>NaN</td>\n      <td>1</td>\n      <td>1</td>\n      <td>1474</td>\n      <td>[]</td>\n    </tr>\n  </tbody>\n</table>\n<p>3703 rows × 8 columns</p>\n</div>"
          },
          "metadata": {},
          "execution_count": 22
        }
      ],
      "source": [
        "df"
      ]
    },
    {
      "cell_type": "code",
      "execution_count": null,
      "metadata": {},
      "outputs": [],
      "source": []
    }
  ]
}