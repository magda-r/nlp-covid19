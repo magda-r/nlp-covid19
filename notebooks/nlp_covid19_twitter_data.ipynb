{
  "nbformat": 4,
  "nbformat_minor": 0,
  "metadata": {
    "colab": {
      "name": "nlp_covid19_twitter_data.ipynb",
      "provenance": [],
      "collapsed_sections": [],
      "mount_file_id": "1pqRAs8TGUL9lOHBtiU2TDxlqAUAtF5vD",
      "authorship_tag": "ABX9TyMZxW8z/iskhfKc+cZhCAtM",
      "include_colab_link": true
    },
    "kernelspec": {
      "name": "python3",
      "display_name": "Python 3"
    },
    "language_info": {
      "name": "python"
    }
  },
  "cells": [
    {
      "cell_type": "markdown",
      "metadata": {
        "id": "view-in-github",
        "colab_type": "text"
      },
      "source": [
        "<a href=\"https://colab.research.google.com/github/magda-r/nlp-covid19/blob/master/notebooks/nlp_covid19_twitter_data.ipynb\" target=\"_parent\"><img src=\"https://colab.research.google.com/assets/colab-badge.svg\" alt=\"Open In Colab\"/></a>"
      ]
    },
    {
      "cell_type": "code",
      "metadata": {
        "id": "IXi_7Fea5EHJ"
      },
      "source": [
        "import os\n",
        "import tweepy as tw\n",
        "import pandas as pd\n",
        "from time import sleep"
      ],
      "execution_count": 3,
      "outputs": []
    },
    {
      "cell_type": "code",
      "metadata": {
        "id": "QmIZY-RB5FxT"
      },
      "source": [
        "consumer_key = ''\n",
        "consumer_secret = ''\n",
        "access_token = ''\n",
        "access_token_secret = ''"
      ],
      "execution_count": 4,
      "outputs": []
    },
    {
      "cell_type": "code",
      "metadata": {
        "id": "w6YGZfy45FzV"
      },
      "source": [
        "auth = tw.OAuthHandler(consumer_key, consumer_secret)\n",
        "auth.set_access_token(access_token, access_token_secret)\n",
        "api = tw.API(auth, wait_on_rate_limit=True)"
      ],
      "execution_count": 5,
      "outputs": []
    },
    {
      "cell_type": "code",
      "metadata": {
        "id": "6OAAqSD65F1r"
      },
      "source": [
        "# Define the search term and the date_since date as variables\n",
        "# search_words = \"covid coronavirus pandemic vaccine vaccination -filter:retweets\"\n",
        "search_words = ('\"covid\" \"vaccine\" \"pandemic\"')\n",
        "date_since = '2020-03-01'\n",
        "date_until = '2021-04-30'\n",
        "no_tweets = 10000"
      ],
      "execution_count": 6,
      "outputs": []
    },
    {
      "cell_type": "code",
      "metadata": {
        "id": "KGK5_L8I5F30"
      },
      "source": [
        "try:\n",
        " # Creation of query method using parameters\n",
        " tweets = tw.Cursor(api.search,\n",
        "                    q=search_words,\n",
        "                    lang=\"en\",\n",
        "                    since=date_since,\n",
        "                    # until=date_until,\n",
        "                    result_type='recent',\n",
        "                    ).items(no_tweets)\n",
        " \n",
        " # Pulling information from tweets iterable object\n",
        " tweets_list = [[tweet.author.screen_name, \n",
        "                tweet.text, \n",
        "                tweet.created_at, \n",
        "                tweet.user.location,\n",
        "                tweet.favorite_count, \n",
        "                tweet.retweet_count, \n",
        "                tweet.user.followers_count,\n",
        "                tweet.entities['hashtags']] for tweet in tweets]\n",
        " \n",
        " # Creation of dataframe from tweets list\n",
        " # Add or remove columns as you remove tweet information\n",
        " tweets_df = pd.DataFrame(tweets_list)\n",
        " \n",
        "except BaseException as e:\n",
        "    print('failed on_status,',str(e))\n",
        "    sleep(3)"
      ],
      "execution_count": null,
      "outputs": []
    },
    {
      "cell_type": "code",
      "metadata": {
        "id": "q1oJjibi5F6E"
      },
      "source": [
        "# Columns rename   \n",
        "try:\n",
        "    tweets_df.columns = ['user', 'text', 'date', 'location', 'fav_count', 're_count', 'no_followers', 'hashtags']\n",
        "except: \n",
        "    print(\"Columns length mismatch\")"
      ],
      "execution_count": null,
      "outputs": []
    },
    {
      "cell_type": "code",
      "metadata": {
        "id": "Jb3VaIKW5F8h"
      },
      "source": [
        "# Hashtags clean-up\n",
        "hashtag_list = list()\n",
        "\n",
        "for hashtags in tweets_df['hashtags']:\n",
        "    hashtext = list()\n",
        "\n",
        "    for i in range(0, len(hashtags)):\n",
        "        hashtext.append(hashtags[i]['text'])\n",
        "\n",
        "    hashtag_list.append(hashtext)\n",
        "tweets_df['hashtags'] = hashtag_list"
      ],
      "execution_count": null,
      "outputs": []
    },
    {
      "cell_type": "code",
      "metadata": {
        "id": "rMh2BiJk5Qlt"
      },
      "source": [
        "tweets_df"
      ],
      "execution_count": null,
      "outputs": []
    },
    {
      "cell_type": "code",
      "metadata": {
        "id": "bFKTPdg65QjY"
      },
      "source": [
        "tweets_df.to_csv(\"/content/drive/MyDrive/studia/masters/data/covid19_tweets.csv\", index=False)"
      ],
      "execution_count": null,
      "outputs": []
    }
  ]
}